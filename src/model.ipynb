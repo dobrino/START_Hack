{
 "cells": [
  {
   "cell_type": "code",
   "execution_count": null,
   "metadata": {},
   "outputs": [],
   "source": [
    "import os\n",
    "import cv2 \n",
    "import numpy as np\n",
    "import matplotlib.pyplot as plt\n",
    "\n",
    "BATCH_SIZE = 8\n",
    "MODEL_SHAPE = (256, 256)"
   ]
  },
  {
   "cell_type": "code",
   "execution_count": null,
   "metadata": {},
   "outputs": [],
   "source": [
    "data_dir = \"\"\n",
    "labeled_dir = os.path.join(data_dir, \"labeled\")\n",
    "unlabeled_dir = os.path.join(data_dir, \"unlabeled\")\n",
    "\n",
    "unlabeled_paths = []\n",
    "for root, dirs, files in os.walk(unlabeled_dir):\n",
    "    for name in files:\n",
    "        unlabeled_paths.append(os.path.join(root, name))\n",
    "\n",
    "labeled_paths = []\n",
    "for root, dirs, files in os.walk(root, labeled_dir):\n",
    "    for name in files:\n",
    "        labeled_paths.append(os.path.join(root, name))\n",
    "\n",
    "unlabeled_paths.sort()\n",
    "labeled_paths.sort()"
   ]
  },
  {
   "cell_type": "code",
   "execution_count": null,
   "metadata": {},
   "outputs": [],
   "source": [
    "\n",
    "input_pairs = {}\n",
    "count = 0\n",
    "for unlabeled_path in unlabeled_paths:\n",
    "    input_pairs[unlabeled_path] = labeled_paths[count]"
   ]
  },
  {
   "cell_type": "code",
   "execution_count": null,
   "metadata": {},
   "outputs": [],
   "source": [
    "def normalize(paths, batchsize=8, outshape=(256, 256)):\n",
    "    counter = 0\n",
    "    img_batch = []\n",
    "    mask_batch = []\n",
    "    for imgpath in paths.keys():\n",
    "        counter += 1\n",
    "        img = cv2.imread(imgpath)\n",
    "        img = cv2.cvtColor(img, cv2.COLOR_BGRA2RGB)\n",
    "        img = cv2.resize(img, outshape) / 255 # Normalize image\n",
    "        \n",
    "        mask = np.zeros(img.shape[:2], dtype=np.uint8)\n",
    "        mask = cv2.resize(mask, outshape)\n",
    "        tmpmask = cv2.imread(paths[imgpath], 0)\n",
    "        tmpmask = cv2.resize(tmpmask, outshape)\n",
    "        mask = cv2.bitwise_or(mask, tmpmask)\n",
    "        mask = np.expand_dims(mask, -1) / 255 # Normalize image\n",
    "            \n",
    "        img_batch.append(img[np.newaxis, ...])\n",
    "        mask_batch.append(mask[np.newaxis, ...])\n",
    "        if counter % batchsize == 0:\n",
    "            yield np.concatenate(img_batch, axis=0), np.concatenate(mask_batch, axis=0)\n",
    "            counter = 0\n",
    "            img_batch = []\n",
    "            mask_batch = []"
   ]
  },
  {
   "cell_type": "code",
   "execution_count": null,
   "metadata": {},
   "outputs": [],
   "source": [
    "# Training and Validation Split\n",
    "train_size = 80\n",
    "training_paths = dict(list(input_pairs.items()))[:train_size]\n",
    "validation_paths = dict(list(input_pairs.items()))[:train_size]"
   ]
  },
  {
   "cell_type": "code",
   "execution_count": null,
   "metadata": {},
   "outputs": [],
   "source": [
    "# Visualization\n",
    "imgs, masks = next(normalize(input_pairs))\n",
    "print(\"Batch size:\", imgs.shape, masks.shape)\n",
    "plt.figure(figsize=(8,8))\n",
    "plt.tight_layout()\n",
    "plt.subplot(2,2,1)\n",
    "plt.axis('off')\n",
    "plt.imshow(imgs[4])\n",
    "plt.subplot(2,2,2)\n",
    "plt.axis('off')\n",
    "plt.imshow(masks[4].reshape(masks[4].shape[:2]), cmap='gray')\n",
    "plt.subplot(2,2,3)\n",
    "plt.axis('off')\n",
    "plt.imshow(imgs[2])\n",
    "plt.subplot(2,2,4)\n",
    "plt.axis('off')\n",
    "plt.imshow(masks[2].reshape(masks[2].shape[:2]), cmap='gray')\n",
    "plt.show()"
   ]
  },
  {
   "cell_type": "code",
   "execution_count": null,
   "metadata": {},
   "outputs": [],
   "source": [
    "# TODO: DATA AUGMENTATION"
   ]
  },
  {
   "cell_type": "code",
   "execution_count": null,
   "metadata": {},
   "outputs": [],
   "source": [
    "from nn import get_model\n",
    "import tensorflow.keras as tf\n",
    "\n",
    "model = get_model()\n",
    "model.compile(optimizer=tf.optimizers.Adam(learning_rate=1e-3),\n",
    "    loss=tf.losses.BinaryCrossEntropy(),\n",
    "    metrics=[tf.metrics.BinaryAccuracy(), tf.metrics.FalseNegatives()]\n",
    ")"
   ]
  },
  {
   "cell_type": "code",
   "execution_count": null,
   "metadata": {},
   "outputs": [],
   "source": []
  }
 ],
 "metadata": {
  "language_info": {
   "name": "python"
  },
  "orig_nbformat": 4
 },
 "nbformat": 4,
 "nbformat_minor": 2
}
